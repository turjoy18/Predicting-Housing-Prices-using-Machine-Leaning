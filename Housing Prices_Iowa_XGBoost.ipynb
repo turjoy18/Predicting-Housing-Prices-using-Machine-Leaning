{
 "cells": [
  {
   "cell_type": "code",
   "execution_count": 4,
   "id": "4d25b369-2dd6-48c6-ad7e-a2fc4fd8e72a",
   "metadata": {},
   "outputs": [],
   "source": [
    "#Imputs\n",
    "import pandas as pd\n",
    "import numpy as np\n",
    "import seaborn as sns\n",
    "import matplotlib.pyplot as plt\n",
    "%matplotlib inline\n",
    "from sklearn.model_selection import train_test_split\n",
    "from sklearn.metrics import mean_absolute_error\n",
    "from sklearn.pipeline import Pipeline"
   ]
  },
  {
   "cell_type": "code",
   "execution_count": 5,
   "id": "fe29e6dd-f175-44cb-b307-dfdcde689499",
   "metadata": {},
   "outputs": [],
   "source": [
    "#Read the data\n",
    "X = pd.read_csv('train.csv', index_col = 'Id')\n",
    "X_test = pd.read_csv('test.csv', index_col ='Id')\n",
    "\n",
    "#Filter from target column null values\n",
    "X.dropna(axis = 0, subset = ['SalePrice'], inplace = True)\n",
    "y = X['SalePrice']\n",
    "\n",
    "#Filter out the target column from X dataset\n",
    "X.drop(axis = 1, labels = ['SalePrice'], inplace = True)"
   ]
  },
  {
   "cell_type": "code",
   "execution_count": 8,
   "id": "0374334a-ef71-4118-8976-44f97bc8cd00",
   "metadata": {},
   "outputs": [
    {
     "name": "stdout",
     "output_type": "stream",
     "text": [
      "(1460, 79)\n",
      "79\n"
     ]
    }
   ],
   "source": [
    "#Verify if there are the same number of columns in both test and train data\n",
    "print(X.shape)\n",
    "print((X.columns == X_test.columns).sum())"
   ]
  },
  {
   "cell_type": "code",
   "execution_count": 10,
   "id": "bf7ff935-c76d-4bcd-abb0-b9def87f7c43",
   "metadata": {},
   "outputs": [
    {
     "data": {
      "text/plain": [
       "Index(['MSSubClass', 'MSZoning', 'LotFrontage', 'LotArea', 'Street', 'Alley',\n",
       "       'LotShape', 'LandContour', 'Utilities', 'LotConfig', 'LandSlope',\n",
       "       'Neighborhood', 'Condition1', 'Condition2', 'BldgType', 'HouseStyle',\n",
       "       'OverallQual', 'OverallCond', 'YearBuilt', 'YearRemodAdd', 'RoofStyle',\n",
       "       'RoofMatl', 'Exterior1st', 'Exterior2nd', 'MasVnrType', 'MasVnrArea',\n",
       "       'ExterQual', 'ExterCond', 'Foundation', 'BsmtQual', 'BsmtCond',\n",
       "       'BsmtExposure', 'BsmtFinType1', 'BsmtFinSF1', 'BsmtFinType2',\n",
       "       'BsmtFinSF2', 'BsmtUnfSF', 'TotalBsmtSF', 'Heating', 'HeatingQC',\n",
       "       'CentralAir', 'Electrical', '1stFlrSF', '2ndFlrSF', 'LowQualFinSF',\n",
       "       'GrLivArea', 'BsmtFullBath', 'BsmtHalfBath', 'FullBath', 'HalfBath',\n",
       "       'BedroomAbvGr', 'KitchenAbvGr', 'KitchenQual', 'TotRmsAbvGrd',\n",
       "       'Functional', 'Fireplaces', 'FireplaceQu', 'GarageType', 'GarageYrBlt',\n",
       "       'GarageFinish', 'GarageCars', 'GarageArea', 'GarageQual', 'GarageCond',\n",
       "       'PavedDrive', 'WoodDeckSF', 'OpenPorchSF', 'EnclosedPorch', '3SsnPorch',\n",
       "       'ScreenPorch', 'PoolArea', 'PoolQC', 'Fence', 'MiscFeature', 'MiscVal',\n",
       "       'MoSold', 'YrSold', 'SaleType', 'SaleCondition'],\n",
       "      dtype='object')"
      ]
     },
     "execution_count": 10,
     "metadata": {},
     "output_type": "execute_result"
    }
   ],
   "source": [
    "X.columns"
   ]
  },
  {
   "cell_type": "code",
   "execution_count": 12,
   "id": "430a9001-77dc-432c-8fbd-b3825f328d86",
   "metadata": {},
   "outputs": [],
   "source": [
    "# MoSold, YrSOld, SaleType, SaleCondition won't be available for a prediction for the new house\n",
    "#so these columns will be dropped\n",
    "leakage_columns = ['MoSold', 'YrSold', 'SaleType', 'SaleCondition']\n",
    "X.drop(labels = leakage_columns, axis = 1, inplace = True)\n",
    "X_test.drop(labels = leakage_columns, axis = 1, inplace= True)"
   ]
  },
  {
   "cell_type": "code",
   "execution_count": 14,
   "id": "4435598b-e273-47aa-bf1b-21370f8a4bcb",
   "metadata": {},
   "outputs": [
    {
     "name": "stdout",
     "output_type": "stream",
     "text": [
      "LotFrontage    259\n",
      "MasVnrArea       8\n",
      "GarageYrBlt     81\n",
      "dtype: int64\n"
     ]
    }
   ],
   "source": [
    "numerical_cols = [col for col in X.columns if X[col].dtype in ['int64', 'float64']]\n",
    "\n",
    "cols_with_nulls = X[numerical_cols].isnull().sum()\n",
    "print(cols_with_nulls[cols_with_nulls > 0])"
   ]
  },
  {
   "cell_type": "code",
   "execution_count": 16,
   "id": "60b6b15b-c222-4ca7-9e78-39e7d5ca90a2",
   "metadata": {},
   "outputs": [],
   "source": [
    "sns.set_style('whitegrid')\n",
    "df = X[['LotFrontage', 'MasVnrArea', 'GarageYrBlt']].dropna(axis = 0)"
   ]
  },
  {
   "cell_type": "code",
   "execution_count": 18,
   "id": "acc8a309-2406-4cd9-a945-93f655cd9aba",
   "metadata": {},
   "outputs": [
    {
     "name": "stderr",
     "output_type": "stream",
     "text": [
      "/tmp/ipykernel_143/2223159185.py:3: UserWarning: \n",
      "\n",
      "`distplot` is a deprecated function and will be removed in seaborn v0.14.0.\n",
      "\n",
      "Please adapt your code to use either `displot` (a figure-level function with\n",
      "similar flexibility) or `histplot` (an axes-level function for histograms).\n",
      "\n",
      "For a guide to updating your code to use the new functions, please see\n",
      "https://gist.github.com/mwaskom/de44147ed2974457ad6372750bbe5751\n",
      "\n",
      "  sns.distplot(a = df['LotFrontage'], bins = 30, norm_hist=False, kde=True, color = 'blue')\n",
      "/opt/conda/envs/anaconda-ai-2024.04-py310/lib/python3.10/site-packages/seaborn/_oldcore.py:1119: FutureWarning: use_inf_as_na option is deprecated and will be removed in a future version. Convert inf values to NaN before operating instead.\n",
      "  with pd.option_context('mode.use_inf_as_na', True):\n"
     ]
    },
    {
     "data": {
      "text/plain": [
       "<Axes: xlabel='LotFrontage', ylabel='Density'>"
      ]
     },
     "execution_count": 18,
     "metadata": {},
     "output_type": "execute_result"
    },
    {
     "data": {
      "image/png": "[encoded data removed]",
      "text/plain": [
       "<Figure size 1200x400 with 1 Axes>"
      ]
     },
     "metadata": {},
     "output_type": "display_data"
    }
   ],
   "source": [
    "#we'll impute the mode, as the distributions is asymetric and the mean is influenced by outliers\n",
    "plt.figure(figsize = (12,4))\n",
    "sns.distplot(a = df['LotFrontage'], bins = 30, norm_hist=False, kde=True, color = 'blue')"
   ]
  },
  {
   "cell_type": "code",
   "execution_count": 20,
   "id": "55c49e24-0f9b-4145-8c21-11ee27abbf15",
   "metadata": {},
   "outputs": [
    {
     "name": "stderr",
     "output_type": "stream",
     "text": [
      "/tmp/ipykernel_143/2841420247.py:3: UserWarning: \n",
      "\n",
      "`distplot` is a deprecated function and will be removed in seaborn v0.14.0.\n",
      "\n",
      "Please adapt your code to use either `displot` (a figure-level function with\n",
      "similar flexibility) or `histplot` (an axes-level function for histograms).\n",
      "\n",
      "For a guide to updating your code to use the new functions, please see\n",
      "https://gist.github.com/mwaskom/de44147ed2974457ad6372750bbe5751\n",
      "\n",
      "  sns.distplot(a = df['MasVnrArea'], bins = 30, norm_hist=False, kde=True, color = 'purple')\n",
      "/opt/conda/envs/anaconda-ai-2024.04-py310/lib/python3.10/site-packages/seaborn/_oldcore.py:1119: FutureWarning: use_inf_as_na option is deprecated and will be removed in a future version. Convert inf values to NaN before operating instead.\n",
      "  with pd.option_context('mode.use_inf_as_na', True):\n"
     ]
    },
    {
     "data": {
      "text/plain": [
       "<Axes: xlabel='MasVnrArea', ylabel='Density'>"
      ]
     },
     "execution_count": 20,
     "metadata": {},
     "output_type": "execute_result"
    },
    {
     "data": {
      "image/png": "[encoded data removed]",
      "text/plain": [
       "<Figure size 1200x400 with 1 Axes>"
      ]
     },
     "metadata": {},
     "output_type": "display_data"
    }
   ],
   "source": [
    "#we'll use most frequent, as the distribution is strongly asymetric to the right\n",
    "plt.figure(figsize = (12,4))\n",
    "sns.distplot(a = df['MasVnrArea'], bins = 30, norm_hist=False, kde=True, color = 'purple')"
   ]
  },
  {
   "cell_type": "code",
   "execution_count": 22,
   "id": "a22ccc4d-1ea9-452e-8450-fadd31fd6f30",
   "metadata": {},
   "outputs": [
    {
     "name": "stderr",
     "output_type": "stream",
     "text": [
      "/tmp/ipykernel_143/683821472.py:3: UserWarning: \n",
      "\n",
      "`distplot` is a deprecated function and will be removed in seaborn v0.14.0.\n",
      "\n",
      "Please adapt your code to use either `displot` (a figure-level function with\n",
      "similar flexibility) or `histplot` (an axes-level function for histograms).\n",
      "\n",
      "For a guide to updating your code to use the new functions, please see\n",
      "https://gist.github.com/mwaskom/de44147ed2974457ad6372750bbe5751\n",
      "\n",
      "  sns.distplot(a = df['GarageYrBlt'], bins = 30, norm_hist=False, kde=True, color = 'orange')\n",
      "/opt/conda/envs/anaconda-ai-2024.04-py310/lib/python3.10/site-packages/seaborn/_oldcore.py:1119: FutureWarning: use_inf_as_na option is deprecated and will be removed in a future version. Convert inf values to NaN before operating instead.\n",
      "  with pd.option_context('mode.use_inf_as_na', True):\n"
     ]
    },
    {
     "data": {
      "text/plain": [
       "<Axes: xlabel='GarageYrBlt', ylabel='Density'>"
      ]
     },
     "execution_count": 22,
     "metadata": {},
     "output_type": "execute_result"
    },
    {
     "data": {
      "image/png": "[encoded data removed]",
      "text/plain": [
       "<Figure size 1200x400 with 1 Axes>"
      ]
     },
     "metadata": {},
     "output_type": "display_data"
    }
   ],
   "source": [
    "#for this distribution mean should work just fine :)\n",
    "plt.figure(figsize = (12,4))\n",
    "sns.distplot(a = df['GarageYrBlt'], bins = 30, norm_hist=False, kde=True, color = 'orange')"
   ]
  },
  {
   "cell_type": "code",
   "execution_count": 24,
   "id": "a8b0e757-c065-4d31-9e7c-0f1cb31f5c6e",
   "metadata": {},
   "outputs": [],
   "source": [
    "#There are only 3 columns with missing values, and they are small in number, so we'll apply Simple Imputation\n",
    "from sklearn.impute import SimpleImputer\n",
    "\n",
    "numerical_cols_median = ['LotFrontage']\n",
    "numerical_transformer_median = SimpleImputer(strategy = 'median')\n",
    "\n",
    "numerical_cols_mod = ['MasVnrArea']\n",
    "numerical_transformer_mod = SimpleImputer(strategy = 'most_frequent')\n",
    "\n",
    "numerical_cols_mean = ['GarageYrBlt']\n",
    "numerical_transformer_mean = SimpleImputer(strategy = 'mean')\n",
    "\n",
    "numerical_cols_remain = set(numerical_cols) - set(numerical_cols_mean) - set(numerical_cols_median) - set(numerical_cols_mod)\n",
    "numerical_cols_remain = list(numerical_cols_remain)"
   ]
  },
  {
   "cell_type": "code",
   "execution_count": 26,
   "id": "9650f90d-f6d3-47a0-b6ca-97a130b56647",
   "metadata": {},
   "outputs": [
    {
     "data": {
      "text/plain": [
       "Alley           1369\n",
       "MasVnrType       872\n",
       "BsmtQual          37\n",
       "BsmtCond          37\n",
       "BsmtExposure      38\n",
       "BsmtFinType1      37\n",
       "BsmtFinType2      38\n",
       "Electrical         1\n",
       "FireplaceQu      690\n",
       "GarageType        81\n",
       "GarageFinish      81\n",
       "GarageQual        81\n",
       "GarageCond        81\n",
       "PoolQC          1453\n",
       "Fence           1179\n",
       "MiscFeature     1406\n",
       "dtype: int64"
      ]
     },
     "execution_count": 26,
     "metadata": {},
     "output_type": "execute_result"
    }
   ],
   "source": [
    "categorical_cols = [col for col in X.columns if X[col].dtype == 'object']\n",
    "cols_with_nulls_categs = X[categorical_cols].isnull().sum()\n",
    "cols_with_nulls_categs[cols_with_nulls_categs > 0]"
   ]
  },
  {
   "cell_type": "code",
   "execution_count": 28,
   "id": "cb3f410d-1637-4bb9-998e-69c6ffdb1719",
   "metadata": {},
   "outputs": [],
   "source": [
    "#Because there are a few columns with too many missing values, we'll filter them out from the data\n",
    "X.drop(labels = ['Alley', 'FireplaceQu', 'PoolQC', 'Fence', 'MiscFeature'], axis = 1, inplace = True)\n",
    "X_test.drop(labels = ['Alley', 'FireplaceQu', 'PoolQC', 'Fence', 'MiscFeature'], axis = 1, inplace = True)"
   ]
  },
  {
   "cell_type": "code",
   "execution_count": 30,
   "id": "cb14295c-fef6-4d64-86e6-361820495ba2",
   "metadata": {},
   "outputs": [
    {
     "data": {
      "text/plain": [
       "(1460, 70)"
      ]
     },
     "execution_count": 30,
     "metadata": {},
     "output_type": "execute_result"
    }
   ],
   "source": [
    "#Redo categorical_cols\n",
    "categorical_cols = [col for col in X.columns if X[col].dtype == 'object']\n",
    "X.shape"
   ]
  },
  {
   "cell_type": "code",
   "execution_count": 32,
   "id": "b4dcf7d1-6c13-4d09-a4eb-633b1b3f3375",
   "metadata": {},
   "outputs": [],
   "source": [
    "from sklearn.preprocessing import OneHotEncoder\n",
    "\n",
    "categ_transformer = Pipeline(steps=[('imputer', SimpleImputer(strategy = 'most_frequent')),\n",
    "                                         ('onehot', OneHotEncoder(handle_unknown = 'ignore'))])"
   ]
  },
  {
   "cell_type": "code",
   "execution_count": 34,
   "id": "c21c2ebf-808f-4b0d-bce7-6caeb80eea68",
   "metadata": {},
   "outputs": [],
   "source": [
    "from sklearn.compose import ColumnTransformer\n",
    "preprocessor = ColumnTransformer(transformers=[('num_median', numerical_transformer_median, numerical_cols_median),\n",
    "                                               ('num_mod', numerical_transformer_mod, numerical_cols_mod),\n",
    "                                               ('num_mean', numerical_transformer_mean, numerical_cols_mean),\n",
    "                                               ('num_rest', numerical_transformer_mean, numerical_cols_remain),\n",
    "                                              ('cat', categ_transformer, categorical_cols)])"
   ]
  },
  {
   "cell_type": "code",
   "execution_count": 36,
   "id": "01636bc5-caa4-4584-b579-f4be4a8dd615",
   "metadata": {},
   "outputs": [],
   "source": [
    "#split the training data into train & valid\n",
    "X_train, X_valid, y_train, y_valid = train_test_split(X, y, test_size = 0.3, random_state = 0)"
   ]
  },
  {
   "cell_type": "code",
   "execution_count": 38,
   "id": "99a4a9da-74bc-475f-8aae-ae4b212ba603",
   "metadata": {},
   "outputs": [
    {
     "name": "stdout",
     "output_type": "stream",
     "text": [
      "MAE 1: 16639.42548694349\n"
     ]
    }
   ],
   "source": [
    "from xgboost import XGBRegressor\n",
    "xgboost_1 = XGBRegressor(learning_rate = 0.05, n_estimators=1000, random_state=0)\n",
    "pipeline_1 = Pipeline(steps=[('preprocessor', preprocessor),\n",
    "                            ('model', xgboost_1)])\n",
    "pipeline_1.fit(X_train, y_train)\n",
    "preds_1 = pipeline_1.predict(X_valid)\n",
    "mae = mean_absolute_error(y_valid, preds_1)\n",
    "print('MAE 1:', mae)"
   ]
  },
  {
   "cell_type": "code",
   "execution_count": 40,
   "id": "4f55608d-2225-4e52-84e8-27284666e613",
   "metadata": {},
   "outputs": [],
   "source": [
    "X_train_prep = preprocessor.fit_transform(X_train)"
   ]
  },
  {
   "cell_type": "code",
   "execution_count": 42,
   "id": "ae105283-d941-466c-88b7-14ab3285e020",
   "metadata": {},
   "outputs": [
    {
     "name": "stdout",
     "output_type": "stream",
     "text": [
      "Fitting 5 folds for each of 30 candidates, totalling 150 fits\n",
      "[CV 1/5] END learning_rate=0.1, n_estimators=50;, score=0.720 total time=   0.2s\n",
      "[CV 2/5] END learning_rate=0.1, n_estimators=50;, score=0.894 total time=   0.2s\n",
      "[CV 3/5] END learning_rate=0.1, n_estimators=50;, score=0.859 total time=   0.2s\n",
      "[CV 4/5] END learning_rate=0.1, n_estimators=50;, score=0.843 total time=   0.2s\n",
      "[CV 5/5] END learning_rate=0.1, n_estimators=50;, score=0.900 total time=   0.2s\n",
      "[CV 1/5] END learning_rate=0.1, n_estimators=100;, score=0.688 total time=   0.3s\n",
      "[CV 2/5] END learning_rate=0.1, n_estimators=100;, score=0.896 total time=   0.2s\n",
      "[CV 3/5] END learning_rate=0.1, n_estimators=100;, score=0.871 total time=   0.5s\n",
      "[CV 4/5] END learning_rate=0.1, n_estimators=100;, score=0.842 total time=   0.3s\n",
      "[CV 5/5] END learning_rate=0.1, n_estimators=100;, score=0.906 total time=   0.5s\n",
      "[CV 1/5] END learning_rate=0.1, n_estimators=200;, score=0.686 total time=   0.5s\n",
      "[CV 2/5] END learning_rate=0.1, n_estimators=200;, score=0.897 total time=   0.7s\n",
      "[CV 3/5] END learning_rate=0.1, n_estimators=200;, score=0.871 total time=   0.7s\n",
      "[CV 4/5] END learning_rate=0.1, n_estimators=200;, score=0.841 total time=   0.7s\n",
      "[CV 5/5] END learning_rate=0.1, n_estimators=200;, score=0.908 total time=   0.7s\n",
      "[CV 1/5] END learning_rate=0.1, n_estimators=500;, score=0.687 total time=   1.5s\n",
      "[CV 2/5] END learning_rate=0.1, n_estimators=500;, score=0.897 total time=   1.4s\n",
      "[CV 3/5] END learning_rate=0.1, n_estimators=500;, score=0.871 total time=   1.6s\n",
      "[CV 4/5] END learning_rate=0.1, n_estimators=500;, score=0.842 total time=   1.4s\n",
      "[CV 5/5] END learning_rate=0.1, n_estimators=500;, score=0.908 total time=   1.7s\n",
      "[CV 1/5] END learning_rate=0.1, n_estimators=700;, score=0.687 total time=   3.7s\n",
      "[CV 2/5] END learning_rate=0.1, n_estimators=700;, score=0.896 total time=   3.9s\n",
      "[CV 3/5] END learning_rate=0.1, n_estimators=700;, score=0.871 total time=   2.2s\n",
      "[CV 4/5] END learning_rate=0.1, n_estimators=700;, score=0.842 total time=   3.1s\n",
      "[CV 5/5] END learning_rate=0.1, n_estimators=700;, score=0.908 total time=   1.5s\n",
      "[CV 1/5] END learning_rate=0.1, n_estimators=1000;, score=0.687 total time=   2.5s\n",
      "[CV 2/5] END learning_rate=0.1, n_estimators=1000;, score=0.896 total time=   3.5s\n",
      "[CV 3/5] END learning_rate=0.1, n_estimators=1000;, score=0.871 total time=   2.9s\n",
      "[CV 4/5] END learning_rate=0.1, n_estimators=1000;, score=0.842 total time=   2.1s\n",
      "[CV 5/5] END learning_rate=0.1, n_estimators=1000;, score=0.908 total time=  12.6s\n",
      "[CV 1/5] END learning_rate=0.08, n_estimators=50;, score=0.736 total time=   0.1s\n",
      "[CV 2/5] END learning_rate=0.08, n_estimators=50;, score=0.884 total time=   0.1s\n",
      "[CV 3/5] END learning_rate=0.08, n_estimators=50;, score=0.856 total time=   0.3s\n",
      "[CV 4/5] END learning_rate=0.08, n_estimators=50;, score=0.854 total time=   0.1s\n",
      "[CV 5/5] END learning_rate=0.08, n_estimators=50;, score=0.902 total time=   0.2s\n",
      "[CV 1/5] END learning_rate=0.08, n_estimators=100;, score=0.677 total time=   0.3s\n",
      "[CV 2/5] END learning_rate=0.08, n_estimators=100;, score=0.886 total time=   0.4s\n",
      "[CV 3/5] END learning_rate=0.08, n_estimators=100;, score=0.875 total time=   0.2s\n",
      "[CV 4/5] END learning_rate=0.08, n_estimators=100;, score=0.851 total time=   0.6s\n",
      "[CV 5/5] END learning_rate=0.08, n_estimators=100;, score=0.912 total time=   0.2s\n",
      "[CV 1/5] END learning_rate=0.08, n_estimators=200;, score=0.677 total time=   0.5s\n",
      "[CV 2/5] END learning_rate=0.08, n_estimators=200;, score=0.887 total time=   0.4s\n",
      "[CV 3/5] END learning_rate=0.08, n_estimators=200;, score=0.878 total time=   0.7s\n",
      "[CV 4/5] END learning_rate=0.08, n_estimators=200;, score=0.850 total time=   0.6s\n",
      "[CV 5/5] END learning_rate=0.08, n_estimators=200;, score=0.913 total time=   1.5s\n",
      "[CV 1/5] END learning_rate=0.08, n_estimators=500;, score=0.678 total time=   1.0s\n",
      "[CV 2/5] END learning_rate=0.08, n_estimators=500;, score=0.886 total time=   1.2s\n",
      "[CV 3/5] END learning_rate=0.08, n_estimators=500;, score=0.879 total time=   3.2s\n",
      "[CV 4/5] END learning_rate=0.08, n_estimators=500;, score=0.851 total time=   1.4s\n",
      "[CV 5/5] END learning_rate=0.08, n_estimators=500;, score=0.914 total time=   1.7s\n",
      "[CV 1/5] END learning_rate=0.08, n_estimators=700;, score=0.678 total time=   1.7s\n",
      "[CV 2/5] END learning_rate=0.08, n_estimators=700;, score=0.886 total time=   1.8s\n",
      "[CV 3/5] END learning_rate=0.08, n_estimators=700;, score=0.879 total time=   1.7s\n",
      "[CV 4/5] END learning_rate=0.08, n_estimators=700;, score=0.851 total time=   3.2s\n",
      "[CV 5/5] END learning_rate=0.08, n_estimators=700;, score=0.914 total time=   1.8s\n",
      "[CV 1/5] END learning_rate=0.08, n_estimators=1000;, score=0.678 total time=   2.6s\n",
      "[CV 2/5] END learning_rate=0.08, n_estimators=1000;, score=0.886 total time=   2.2s\n",
      "[CV 3/5] END learning_rate=0.08, n_estimators=1000;, score=0.879 total time=   2.8s\n",
      "[CV 4/5] END learning_rate=0.08, n_estimators=1000;, score=0.851 total time=   2.8s\n",
      "[CV 5/5] END learning_rate=0.08, n_estimators=1000;, score=0.914 total time=   2.2s\n",
      "[CV 1/5] END learning_rate=0.05, n_estimators=50;, score=0.765 total time=   0.1s\n",
      "[CV 2/5] END learning_rate=0.05, n_estimators=50;, score=0.830 total time=   0.1s\n",
      "[CV 3/5] END learning_rate=0.05, n_estimators=50;, score=0.787 total time=   0.1s\n",
      "[CV 4/5] END learning_rate=0.05, n_estimators=50;, score=0.793 total time=   0.1s\n",
      "[CV 5/5] END learning_rate=0.05, n_estimators=50;, score=0.833 total time=   0.1s\n",
      "[CV 1/5] END learning_rate=0.05, n_estimators=100;, score=0.724 total time=   0.3s\n",
      "[CV 2/5] END learning_rate=0.05, n_estimators=100;, score=0.884 total time=   0.2s\n",
      "[CV 3/5] END learning_rate=0.05, n_estimators=100;, score=0.872 total time=   0.2s\n",
      "[CV 4/5] END learning_rate=0.05, n_estimators=100;, score=0.852 total time=   0.2s\n",
      "[CV 5/5] END learning_rate=0.05, n_estimators=100;, score=0.904 total time=   0.2s\n",
      "[CV 1/5] END learning_rate=0.05, n_estimators=200;, score=0.701 total time=   0.9s\n",
      "[CV 2/5] END learning_rate=0.05, n_estimators=200;, score=0.884 total time=   0.7s\n",
      "[CV 3/5] END learning_rate=0.05, n_estimators=200;, score=0.882 total time=   0.8s\n",
      "[CV 4/5] END learning_rate=0.05, n_estimators=200;, score=0.855 total time=   0.8s\n",
      "[CV 5/5] END learning_rate=0.05, n_estimators=200;, score=0.910 total time=   0.7s\n",
      "[CV 1/5] END learning_rate=0.05, n_estimators=500;, score=0.700 total time=   1.7s\n",
      "[CV 2/5] END learning_rate=0.05, n_estimators=500;, score=0.885 total time=   1.3s\n",
      "[CV 3/5] END learning_rate=0.05, n_estimators=500;, score=0.883 total time=   1.2s\n",
      "[CV 4/5] END learning_rate=0.05, n_estimators=500;, score=0.855 total time=   9.0s\n",
      "[CV 5/5] END learning_rate=0.05, n_estimators=500;, score=0.912 total time=   1.2s\n",
      "[CV 1/5] END learning_rate=0.05, n_estimators=700;, score=0.700 total time=   2.4s\n",
      "[CV 2/5] END learning_rate=0.05, n_estimators=700;, score=0.884 total time=   3.1s\n",
      "[CV 3/5] END learning_rate=0.05, n_estimators=700;, score=0.883 total time=   2.5s\n",
      "[CV 4/5] END learning_rate=0.05, n_estimators=700;, score=0.855 total time=   1.7s\n",
      "[CV 5/5] END learning_rate=0.05, n_estimators=700;, score=0.912 total time=   1.7s\n",
      "[CV 1/5] END learning_rate=0.05, n_estimators=1000;, score=0.700 total time=   3.0s\n",
      "[CV 2/5] END learning_rate=0.05, n_estimators=1000;, score=0.884 total time=   2.8s\n",
      "[CV 3/5] END learning_rate=0.05, n_estimators=1000;, score=0.884 total time=   2.6s\n",
      "[CV 4/5] END learning_rate=0.05, n_estimators=1000;, score=0.855 total time=   5.3s\n",
      "[CV 5/5] END learning_rate=0.05, n_estimators=1000;, score=0.913 total time=  11.1s\n",
      "[CV 1/5] END learning_rate=0.03, n_estimators=50;, score=0.526 total time=   0.1s\n",
      "[CV 2/5] END learning_rate=0.03, n_estimators=50;, score=0.538 total time=   0.3s\n",
      "[CV 3/5] END learning_rate=0.03, n_estimators=50;, score=0.477 total time=   0.1s\n",
      "[CV 4/5] END learning_rate=0.03, n_estimators=50;, score=0.487 total time=   0.1s\n",
      "[CV 5/5] END learning_rate=0.03, n_estimators=50;, score=0.480 total time=   0.1s\n",
      "[CV 1/5] END learning_rate=0.03, n_estimators=100;, score=0.780 total time=   0.2s\n",
      "[CV 2/5] END learning_rate=0.03, n_estimators=100;, score=0.865 total time=   0.2s\n",
      "[CV 3/5] END learning_rate=0.03, n_estimators=100;, score=0.832 total time=   0.3s\n",
      "[CV 4/5] END learning_rate=0.03, n_estimators=100;, score=0.825 total time=   0.5s\n",
      "[CV 5/5] END learning_rate=0.03, n_estimators=100;, score=0.872 total time=   0.3s\n",
      "[CV 1/5] END learning_rate=0.03, n_estimators=200;, score=0.704 total time=   0.4s\n",
      "[CV 2/5] END learning_rate=0.03, n_estimators=200;, score=0.886 total time=   0.6s\n",
      "[CV 3/5] END learning_rate=0.03, n_estimators=200;, score=0.877 total time=   0.4s\n",
      "[CV 4/5] END learning_rate=0.03, n_estimators=200;, score=0.849 total time=   0.4s\n",
      "[CV 5/5] END learning_rate=0.03, n_estimators=200;, score=0.907 total time=   0.6s\n",
      "[CV 1/5] END learning_rate=0.03, n_estimators=500;, score=0.694 total time=   1.7s\n",
      "[CV 2/5] END learning_rate=0.03, n_estimators=500;, score=0.888 total time=   1.4s\n",
      "[CV 3/5] END learning_rate=0.03, n_estimators=500;, score=0.884 total time=   1.5s\n",
      "[CV 4/5] END learning_rate=0.03, n_estimators=500;, score=0.848 total time=   1.8s\n",
      "[CV 5/5] END learning_rate=0.03, n_estimators=500;, score=0.912 total time=   1.2s\n",
      "[CV 1/5] END learning_rate=0.03, n_estimators=700;, score=0.694 total time=   1.5s\n",
      "[CV 2/5] END learning_rate=0.03, n_estimators=700;, score=0.888 total time=   8.9s\n",
      "[CV 3/5] END learning_rate=0.03, n_estimators=700;, score=0.885 total time=   2.2s\n",
      "[CV 4/5] END learning_rate=0.03, n_estimators=700;, score=0.849 total time=   1.7s\n",
      "[CV 5/5] END learning_rate=0.03, n_estimators=700;, score=0.913 total time=   2.5s\n",
      "[CV 1/5] END learning_rate=0.03, n_estimators=1000;, score=0.694 total time=   3.6s\n",
      "[CV 2/5] END learning_rate=0.03, n_estimators=1000;, score=0.888 total time=   2.5s\n",
      "[CV 3/5] END learning_rate=0.03, n_estimators=1000;, score=0.885 total time=   2.2s\n",
      "[CV 4/5] END learning_rate=0.03, n_estimators=1000;, score=0.849 total time=   4.6s\n",
      "[CV 5/5] END learning_rate=0.03, n_estimators=1000;, score=0.913 total time=   2.5s\n",
      "[CV 1/5] END learning_rate=0.01, n_estimators=50;, score=-1.407 total time=   0.2s\n",
      "[CV 2/5] END learning_rate=0.01, n_estimators=50;, score=-1.500 total time=   0.1s\n",
      "[CV 3/5] END learning_rate=0.01, n_estimators=50;, score=-1.366 total time=   0.1s\n",
      "[CV 4/5] END learning_rate=0.01, n_estimators=50;, score=-1.686 total time=   0.2s\n",
      "[CV 5/5] END learning_rate=0.01, n_estimators=50;, score=-1.910 total time=   0.1s\n",
      "[CV 1/5] END learning_rate=0.01, n_estimators=100;, score=-0.007 total time=   0.2s\n",
      "[CV 2/5] END learning_rate=0.01, n_estimators=100;, score=-0.042 total time=   0.2s\n",
      "[CV 3/5] END learning_rate=0.01, n_estimators=100;, score=-0.055 total time=   0.2s\n",
      "[CV 4/5] END learning_rate=0.01, n_estimators=100;, score=-0.127 total time=   0.2s\n",
      "[CV 5/5] END learning_rate=0.01, n_estimators=100;, score=-0.186 total time=   0.4s\n",
      "[CV 1/5] END learning_rate=0.01, n_estimators=200;, score=0.703 total time=   0.4s\n",
      "[CV 2/5] END learning_rate=0.01, n_estimators=200;, score=0.741 total time=   0.6s\n",
      "[CV 3/5] END learning_rate=0.01, n_estimators=200;, score=0.685 total time=   0.6s\n",
      "[CV 4/5] END learning_rate=0.01, n_estimators=200;, score=0.703 total time=   0.7s\n",
      "[CV 5/5] END learning_rate=0.01, n_estimators=200;, score=0.726 total time=   0.5s\n",
      "[CV 1/5] END learning_rate=0.01, n_estimators=500;, score=0.727 total time=   1.4s\n",
      "[CV 2/5] END learning_rate=0.01, n_estimators=500;, score=0.889 total time=   1.2s\n",
      "[CV 3/5] END learning_rate=0.01, n_estimators=500;, score=0.870 total time=   6.3s\n",
      "[CV 4/5] END learning_rate=0.01, n_estimators=500;, score=0.855 total time=   5.8s\n",
      "[CV 5/5] END learning_rate=0.01, n_estimators=500;, score=0.904 total time=   1.4s\n",
      "[CV 1/5] END learning_rate=0.01, n_estimators=700;, score=0.705 total time=   3.0s\n",
      "[CV 2/5] END learning_rate=0.01, n_estimators=700;, score=0.891 total time=   2.4s\n",
      "[CV 3/5] END learning_rate=0.01, n_estimators=700;, score=0.878 total time=   2.0s\n",
      "[CV 4/5] END learning_rate=0.01, n_estimators=700;, score=0.854 total time=   3.3s\n",
      "[CV 5/5] END learning_rate=0.01, n_estimators=700;, score=0.907 total time=   8.5s\n",
      "[CV 1/5] END learning_rate=0.01, n_estimators=1000;, score=0.703 total time=   3.4s\n",
      "[CV 2/5] END learning_rate=0.01, n_estimators=1000;, score=0.893 total time=   3.6s\n",
      "[CV 3/5] END learning_rate=0.01, n_estimators=1000;, score=0.881 total time=   4.5s\n",
      "[CV 4/5] END learning_rate=0.01, n_estimators=1000;, score=0.853 total time=   3.8s\n",
      "[CV 5/5] END learning_rate=0.01, n_estimators=1000;, score=0.910 total time=   3.9s\n"
     ]
    },
    {
     "data": {
      "text/html": [
       "<style>#sk-container-id-1 {color: black;}#sk-container-id-1 pre{padding: 0;}#sk-container-id-1 div.sk-toggleable {background-color: white;}#sk-container-id-1 label.sk-toggleable__label {cursor: pointer;display: block;width: 100%;margin-bottom: 0;padding: 0.3em;box-sizing: border-box;text-align: center;}#sk-container-id-1 label.sk-toggleable__label-arrow:before {content: \"▸\";float: left;margin-right: 0.25em;color: #696969;}#sk-container-id-1 label.sk-toggleable__label-arrow:hover:before {color: black;}#sk-container-id-1 div.sk-estimator:hover label.sk-toggleable__label-arrow:before {color: black;}#sk-container-id-1 div.sk-toggleable__content {max-height: 0;max-width: 0;overflow: hidden;text-align: left;background-color: #f0f8ff;}#sk-container-id-1 div.sk-toggleable__content pre {margin: 0.2em;color: black;border-radius: 0.25em;background-color: #f0f8ff;}#sk-container-id-1 input.sk-toggleable__control:checked~div.sk-toggleable__content {max-height: 200px;max-width: 100%;overflow: auto;}#sk-container-id-1 input.sk-toggleable__control:checked~label.sk-toggleable__label-arrow:before {content: \"▾\";}#sk-container-id-1 div.sk-estimator input.sk-toggleable__control:checked~label.sk-toggleable__label {background-color: #d4ebff;}#sk-container-id-1 div.sk-label input.sk-toggleable__control:checked~label.sk-toggleable__label {background-color: #d4ebff;}#sk-container-id-1 input.sk-hidden--visually {border: 0;clip: rect(1px 1px 1px 1px);clip: rect(1px, 1px, 1px, 1px);height: 1px;margin: -1px;overflow: hidden;padding: 0;position: absolute;width: 1px;}#sk-container-id-1 div.sk-estimator {font-family: monospace;background-color: #f0f8ff;border: 1px dotted black;border-radius: 0.25em;box-sizing: border-box;margin-bottom: 0.5em;}#sk-container-id-1 div.sk-estimator:hover {background-color: #d4ebff;}#sk-container-id-1 div.sk-parallel-item::after {content: \"\";width: 100%;border-bottom: 1px solid gray;flex-grow: 1;}#sk-container-id-1 div.sk-label:hover label.sk-toggleable__label {background-color: #d4ebff;}#sk-container-id-1 div.sk-serial::before {content: \"\";position: absolute;border-left: 1px solid gray;box-sizing: border-box;top: 0;bottom: 0;left: 50%;z-index: 0;}#sk-container-id-1 div.sk-serial {display: flex;flex-direction: column;align-items: center;background-color: white;padding-right: 0.2em;padding-left: 0.2em;position: relative;}#sk-container-id-1 div.sk-item {position: relative;z-index: 1;}#sk-container-id-1 div.sk-parallel {display: flex;align-items: stretch;justify-content: center;background-color: white;position: relative;}#sk-container-id-1 div.sk-item::before, #sk-container-id-1 div.sk-parallel-item::before {content: \"\";position: absolute;border-left: 1px solid gray;box-sizing: border-box;top: 0;bottom: 0;left: 50%;z-index: -1;}#sk-container-id-1 div.sk-parallel-item {display: flex;flex-direction: column;z-index: 1;position: relative;background-color: white;}#sk-container-id-1 div.sk-parallel-item:first-child::after {align-self: flex-end;width: 50%;}#sk-container-id-1 div.sk-parallel-item:last-child::after {align-self: flex-start;width: 50%;}#sk-container-id-1 div.sk-parallel-item:only-child::after {width: 0;}#sk-container-id-1 div.sk-dashed-wrapped {border: 1px dashed gray;margin: 0 0.4em 0.5em 0.4em;box-sizing: border-box;padding-bottom: 0.4em;background-color: white;}#sk-container-id-1 div.sk-label label {font-family: monospace;font-weight: bold;display: inline-block;line-height: 1.2em;}#sk-container-id-1 div.sk-label-container {text-align: center;}#sk-container-id-1 div.sk-container {/* jupyter's `normalize.less` sets `[hidden] { display: none; }` but bootstrap.min.css set `[hidden] { display: none !important; }` so we also need the `!important` here to be able to override the default hidden behavior on the sphinx rendered scikit-learn.org. See: https://github.com/scikit-learn/scikit-learn/issues/21755 */display: inline-block !important;position: relative;}#sk-container-id-1 div.sk-text-repr-fallback {display: none;}</style><div id=\"sk-container-id-1\" class=\"sk-top-container\"><div class=\"sk-text-repr-fallback\"><pre>GridSearchCV(cv=5,\n",
       "             estimator=XGBRegressor(base_score=None, booster=None,\n",
       "                                    callbacks=None, colsample_bylevel=None,\n",
       "                                    colsample_bynode=None,\n",
       "                                    colsample_bytree=None,\n",
       "                                    early_stopping_rounds=None,\n",
       "                                    enable_categorical=False, eval_metric=None,\n",
       "                                    feature_types=None, gamma=None, gpu_id=None,\n",
       "                                    grow_policy=None, importance_type=None,\n",
       "                                    interaction_constraints=None,\n",
       "                                    learning_rate=None, m...\n",
       "                                    max_cat_threshold=None,\n",
       "                                    max_cat_to_onehot=None, max_delta_step=None,\n",
       "                                    max_depth=None, max_leaves=None,\n",
       "                                    min_child_weight=None, missing=nan,\n",
       "                                    monotone_constraints=None, n_estimators=100,\n",
       "                                    n_jobs=None, num_parallel_tree=None,\n",
       "                                    predictor=None, random_state=None, ...),\n",
       "             param_grid={&#x27;learning_rate&#x27;: [0.1, 0.08, 0.05, 0.03, 0.01],\n",
       "                         &#x27;n_estimators&#x27;: [50, 100, 200, 500, 700, 1000]},\n",
       "             verbose=5)</pre><b>In a Jupyter environment, please rerun this cell to show the HTML representation or trust the notebook. <br />On GitHub, the HTML representation is unable to render, please try loading this page with nbviewer.org.</b></div><div class=\"sk-container\" hidden><div class=\"sk-item sk-dashed-wrapped\"><div class=\"sk-label-container\"><div class=\"sk-label sk-toggleable\"><input class=\"sk-toggleable__control sk-hidden--visually\" id=\"sk-estimator-id-1\" type=\"checkbox\" ><label for=\"sk-estimator-id-1\" class=\"sk-toggleable__label sk-toggleable__label-arrow\">GridSearchCV</label><div class=\"sk-toggleable__content\"><pre>GridSearchCV(cv=5,\n",
       "             estimator=XGBRegressor(base_score=None, booster=None,\n",
       "                                    callbacks=None, colsample_bylevel=None,\n",
       "                                    colsample_bynode=None,\n",
       "                                    colsample_bytree=None,\n",
       "                                    early_stopping_rounds=None,\n",
       "                                    enable_categorical=False, eval_metric=None,\n",
       "                                    feature_types=None, gamma=None, gpu_id=None,\n",
       "                                    grow_policy=None, importance_type=None,\n",
       "                                    interaction_constraints=None,\n",
       "                                    learning_rate=None, m...\n",
       "                                    max_cat_threshold=None,\n",
       "                                    max_cat_to_onehot=None, max_delta_step=None,\n",
       "                                    max_depth=None, max_leaves=None,\n",
       "                                    min_child_weight=None, missing=nan,\n",
       "                                    monotone_constraints=None, n_estimators=100,\n",
       "                                    n_jobs=None, num_parallel_tree=None,\n",
       "                                    predictor=None, random_state=None, ...),\n",
       "             param_grid={&#x27;learning_rate&#x27;: [0.1, 0.08, 0.05, 0.03, 0.01],\n",
       "                         &#x27;n_estimators&#x27;: [50, 100, 200, 500, 700, 1000]},\n",
       "             verbose=5)</pre></div></div></div><div class=\"sk-parallel\"><div class=\"sk-parallel-item\"><div class=\"sk-item\"><div class=\"sk-label-container\"><div class=\"sk-label sk-toggleable\"><input class=\"sk-toggleable__control sk-hidden--visually\" id=\"sk-estimator-id-2\" type=\"checkbox\" ><label for=\"sk-estimator-id-2\" class=\"sk-toggleable__label sk-toggleable__label-arrow\">estimator: XGBRegressor</label><div class=\"sk-toggleable__content\"><pre>XGBRegressor(base_score=None, booster=None, callbacks=None,\n",
       "             colsample_bylevel=None, colsample_bynode=None,\n",
       "             colsample_bytree=None, early_stopping_rounds=None,\n",
       "             enable_categorical=False, eval_metric=None, feature_types=None,\n",
       "             gamma=None, gpu_id=None, grow_policy=None, importance_type=None,\n",
       "             interaction_constraints=None, learning_rate=None, max_bin=None,\n",
       "             max_cat_threshold=None, max_cat_to_onehot=None,\n",
       "             max_delta_step=None, max_depth=None, max_leaves=None,\n",
       "             min_child_weight=None, missing=nan, monotone_constraints=None,\n",
       "             n_estimators=100, n_jobs=None, num_parallel_tree=None,\n",
       "             predictor=None, random_state=None, ...)</pre></div></div></div><div class=\"sk-serial\"><div class=\"sk-item\"><div class=\"sk-estimator sk-toggleable\"><input class=\"sk-toggleable__control sk-hidden--visually\" id=\"sk-estimator-id-3\" type=\"checkbox\" ><label for=\"sk-estimator-id-3\" class=\"sk-toggleable__label sk-toggleable__label-arrow\">XGBRegressor</label><div class=\"sk-toggleable__content\"><pre>XGBRegressor(base_score=None, booster=None, callbacks=None,\n",
       "             colsample_bylevel=None, colsample_bynode=None,\n",
       "             colsample_bytree=None, early_stopping_rounds=None,\n",
       "             enable_categorical=False, eval_metric=None, feature_types=None,\n",
       "             gamma=None, gpu_id=None, grow_policy=None, importance_type=None,\n",
       "             interaction_constraints=None, learning_rate=None, max_bin=None,\n",
       "             max_cat_threshold=None, max_cat_to_onehot=None,\n",
       "             max_delta_step=None, max_depth=None, max_leaves=None,\n",
       "             min_child_weight=None, missing=nan, monotone_constraints=None,\n",
       "             n_estimators=100, n_jobs=None, num_parallel_tree=None,\n",
       "             predictor=None, random_state=None, ...)</pre></div></div></div></div></div></div></div></div></div></div>"
      ],
      "text/plain": [
       "GridSearchCV(cv=5,\n",
       "             estimator=XGBRegressor(base_score=None, booster=None,\n",
       "                                    callbacks=None, colsample_bylevel=None,\n",
       "                                    colsample_bynode=None,\n",
       "                                    colsample_bytree=None,\n",
       "                                    early_stopping_rounds=None,\n",
       "                                    enable_categorical=False, eval_metric=None,\n",
       "                                    feature_types=None, gamma=None, gpu_id=None,\n",
       "                                    grow_policy=None, importance_type=None,\n",
       "                                    interaction_constraints=None,\n",
       "                                    learning_rate=None, m...\n",
       "                                    max_cat_threshold=None,\n",
       "                                    max_cat_to_onehot=None, max_delta_step=None,\n",
       "                                    max_depth=None, max_leaves=None,\n",
       "                                    min_child_weight=None, missing=nan,\n",
       "                                    monotone_constraints=None, n_estimators=100,\n",
       "                                    n_jobs=None, num_parallel_tree=None,\n",
       "                                    predictor=None, random_state=None, ...),\n",
       "             param_grid={'learning_rate': [0.1, 0.08, 0.05, 0.03, 0.01],\n",
       "                         'n_estimators': [50, 100, 200, 500, 700, 1000]},\n",
       "             verbose=5)"
      ]
     },
     "execution_count": 42,
     "metadata": {},
     "output_type": "execute_result"
    }
   ],
   "source": [
    "from sklearn.model_selection import GridSearchCV\n",
    "\n",
    "param_grid = {'learning_rate' : [0.1, 0.08, 0.05, 0.03, 0.01], 'n_estimators' : [50, 100, 200, 500, 700, 1000]}\n",
    "grid = GridSearchCV(XGBRegressor(), param_grid, cv = 5, verbose=5)\n",
    "\n",
    "grid.fit(X_train_prep, y_train)"
   ]
  },
  {
   "cell_type": "code",
   "execution_count": 44,
   "id": "4d435da4-0b9a-4389-ad7f-c196fe268e60",
   "metadata": {},
   "outputs": [
    {
     "name": "stdout",
     "output_type": "stream",
     "text": [
      "Best params: {'learning_rate': 0.01, 'n_estimators': 500}\n",
      "Best estim: XGBRegressor(base_score=None, booster=None, callbacks=None,\n",
      "             colsample_bylevel=None, colsample_bynode=None,\n",
      "             colsample_bytree=None, early_stopping_rounds=None,\n",
      "             enable_categorical=False, eval_metric=None, feature_types=None,\n",
      "             gamma=None, gpu_id=None, grow_policy=None, importance_type=None,\n",
      "             interaction_constraints=None, learning_rate=0.01, max_bin=None,\n",
      "             max_cat_threshold=None, max_cat_to_onehot=None,\n",
      "             max_delta_step=None, max_depth=None, max_leaves=None,\n",
      "             min_child_weight=None, missing=nan, monotone_constraints=None,\n",
      "             n_estimators=500, n_jobs=None, num_parallel_tree=None,\n",
      "             predictor=None, random_state=None, ...)\n",
      "Best score: 0.8488364759592846\n"
     ]
    }
   ],
   "source": [
    "print('Best params:', grid.best_params_)\n",
    "print('Best estim:', grid.best_estimator_)\n",
    "print('Best score:', grid.best_score_)"
   ]
  },
  {
   "cell_type": "code",
   "execution_count": 46,
   "id": "27a634ce-ea17-424a-a4ca-e9a506a7cf7f",
   "metadata": {},
   "outputs": [
    {
     "name": "stdout",
     "output_type": "stream",
     "text": [
      "MAE 2: 16552.90435930365\n"
     ]
    }
   ],
   "source": [
    "xgboost_2 = XGBRegressor(learning_rate=0.01, n_estimators= 1000)\n",
    "\n",
    "pipeline_2 = Pipeline(steps=[('preprocessor', preprocessor),\n",
    "                            ('model', xgboost_2)])\n",
    "\n",
    "pipeline_2.fit(X_train, y_train)\n",
    "\n",
    "preds_2 = pipeline_2.predict(X_valid)\n",
    "mae = mean_absolute_error(y_valid, preds_2)\n",
    "print('MAE 2:', mae)"
   ]
  }
 ],
 "metadata": {
  "kernelspec": {
   "display_name": "anaconda-ai-2024.04-py310",
   "language": "python",
   "name": "conda-env-anaconda-ai-2024.04-py310-py"
  },
  "language_info": {
   "codemirror_mode": {
    "name": "ipython",
    "version": 3
   },
   "file_extension": ".py",
   "mimetype": "text/x-python",
   "name": "python",
   "nbconvert_exporter": "python",
   "pygments_lexer": "ipython3",
   "version": "3.10.13"
  }
 },
 "nbformat": 4,
 "nbformat_minor": 5
}
